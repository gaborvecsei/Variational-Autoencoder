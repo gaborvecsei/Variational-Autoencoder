{
 "cells": [
  {
   "cell_type": "code",
   "execution_count": 1,
   "metadata": {},
   "outputs": [],
   "source": [
    "%load_ext autoreload\n",
    "%autoreload 2"
   ]
  },
  {
   "cell_type": "markdown",
   "metadata": {},
   "source": [
    "# Training the VAE"
   ]
  },
  {
   "cell_type": "code",
   "execution_count": 89,
   "metadata": {},
   "outputs": [],
   "source": [
    "import numpy as np\n",
    "from keras import callbacks\n",
    "\n",
    "from utils import data_generation\n",
    "from vae_model import vae\n",
    "\n",
    "import matplotlib.pyplot as plt\n",
    "%matplotlib inline"
   ]
  },
  {
   "cell_type": "markdown",
   "metadata": {},
   "source": [
    "## Model"
   ]
  },
  {
   "cell_type": "code",
   "execution_count": 138,
   "metadata": {},
   "outputs": [],
   "source": [
    "vae_model = vae.VAE()"
   ]
  },
  {
   "cell_type": "markdown",
   "metadata": {},
   "source": [
    "### Complete model (encoder + decoder)"
   ]
  },
  {
   "cell_type": "code",
   "execution_count": 139,
   "metadata": {},
   "outputs": [],
   "source": [
    "# vae_model.model.summary()"
   ]
  },
  {
   "cell_type": "markdown",
   "metadata": {},
   "source": [
    "### Encoder"
   ]
  },
  {
   "cell_type": "code",
   "execution_count": 140,
   "metadata": {},
   "outputs": [],
   "source": [
    "# vae_model.encoder.summary()"
   ]
  },
  {
   "cell_type": "markdown",
   "metadata": {},
   "source": [
    "### Decoder"
   ]
  },
  {
   "cell_type": "code",
   "execution_count": 141,
   "metadata": {},
   "outputs": [],
   "source": [
    "# vae_model.decoder.summary()"
   ]
  },
  {
   "cell_type": "markdown",
   "metadata": {},
   "source": [
    "## Generating the training data"
   ]
  },
  {
   "cell_type": "code",
   "execution_count": 142,
   "metadata": {},
   "outputs": [],
   "source": [
    "nb_images = 500\n",
    "image_width = 64\n",
    "image_height = 64\n",
    "\n",
    "images = np.zeros((nb_images, image_height, image_width, 3), dtype=np.uint8)\n",
    "\n",
    "for i, x in enumerate(data_generation.rnd_circle_data_generator(nb_images,\n",
    "                                                                image_width,\n",
    "                                                                image_height,\n",
    "                                                                (0, image_width),\n",
    "                                                                (0, image_height),\n",
    "                                                                (6, 24))):\n",
    "    images[i] = x"
   ]
  },
  {
   "cell_type": "code",
   "execution_count": 143,
   "metadata": {},
   "outputs": [
    {
     "data": {
      "image/png": "[encoded data removed]",
      "text/plain": [
       "<Figure size 504x504 with 36 Axes>"
      ]
     },
     "metadata": {
      "needs_background": "light"
     },
     "output_type": "display_data"
    }
   ],
   "source": [
    "fig, axs = plt.subplots(6, 6, figsize=(7, 7))\n",
    "fig.suptitle(\"Generated images\")\n",
    "\n",
    "for i, ax in enumerate(axs.flatten()):\n",
    "    ax.axis(\"off\")\n",
    "    ax.imshow(images[i])"
   ]
  },
  {
   "cell_type": "code",
   "execution_count": 144,
   "metadata": {},
   "outputs": [],
   "source": [
    "images = images.astype(np.float16) / 255.0"
   ]
  },
  {
   "cell_type": "markdown",
   "metadata": {},
   "source": [
    "## Trainign the VAE"
   ]
  },
  {
   "cell_type": "code",
   "execution_count": 145,
   "metadata": {},
   "outputs": [],
   "source": [
    "early_stopping = callbacks.EarlyStopping(monitor=\"loss\", patience=5, verbose=1, restore_best_weights=True)"
   ]
  },
  {
   "cell_type": "code",
   "execution_count": 146,
   "metadata": {},
   "outputs": [
    {
     "name": "stdout",
     "output_type": "stream",
     "text": [
      "Train on 450 samples, validate on 50 samples\n",
      "Epoch 1/50\n",
      "450/450 [==============================] - 4s 8ms/step - loss: 377298.9082 - vae_r_loss: 377297.4213 - vae_kl_loss: 1.4860 - val_loss: 127220.7188 - val_vae_r_loss: 126673.2422 - val_vae_kl_loss: 547.4744\n",
      "Epoch 2/50\n",
      "450/450 [==============================] - 1s 3ms/step - loss: 78755.1433 - vae_r_loss: 74965.0716 - vae_kl_loss: 3790.0709 - val_loss: 33482.2539 - val_vae_r_loss: 32908.0039 - val_vae_kl_loss: 574.2487\n",
      "Epoch 3/50\n",
      "450/450 [==============================] - 1s 3ms/step - loss: 37122.8547 - vae_r_loss: 36423.2476 - vae_kl_loss: 699.6067 - val_loss: 33426.4961 - val_vae_r_loss: 32456.2422 - val_vae_kl_loss: 970.2537\n",
      "Epoch 4/50\n",
      "450/450 [==============================] - 1s 3ms/step - loss: 37184.2590 - vae_r_loss: 36238.9747 - vae_kl_loss: 945.2829 - val_loss: 33281.6250 - val_vae_r_loss: 32455.0000 - val_vae_kl_loss: 826.6262\n",
      "Epoch 5/50\n",
      "450/450 [==============================] - 1s 3ms/step - loss: 37069.4210 - vae_r_loss: 36385.8533 - vae_kl_loss: 683.5688 - val_loss: 32931.1094 - val_vae_r_loss: 32455.0000 - val_vae_kl_loss: 476.1098\n",
      "Epoch 6/50\n",
      "450/450 [==============================] - 1s 3ms/step - loss: 36725.2564 - vae_r_loss: 36347.0006 - vae_kl_loss: 378.2551 - val_loss: 32713.7871 - val_vae_r_loss: 32455.0078 - val_vae_kl_loss: 258.7790\n",
      "Epoch 7/50\n",
      "450/450 [==============================] - 1s 3ms/step - loss: 36534.4346 - vae_r_loss: 36325.1156 - vae_kl_loss: 209.3195 - val_loss: 32607.4805 - val_vae_r_loss: 32455.0469 - val_vae_kl_loss: 152.4343\n",
      "Epoch 8/50\n",
      "450/450 [==============================] - 1s 3ms/step - loss: 36346.6921 - vae_r_loss: 36219.4195 - vae_kl_loss: 127.2713 - val_loss: 32555.0645 - val_vae_r_loss: 32455.2500 - val_vae_kl_loss: 99.8141\n",
      "Epoch 9/50\n",
      "450/450 [==============================] - 1s 3ms/step - loss: 36425.1936 - vae_r_loss: 36339.3859 - vae_kl_loss: 85.8078 - val_loss: 32527.5879 - val_vae_r_loss: 32455.7559 - val_vae_kl_loss: 71.8310\n",
      "Epoch 10/50\n",
      "450/450 [==============================] - 1s 3ms/step - loss: 36384.8498 - vae_r_loss: 36321.5535 - vae_kl_loss: 63.2951 - val_loss: 32512.2520 - val_vae_r_loss: 32456.7637 - val_vae_kl_loss: 55.4880\n",
      "Epoch 11/50\n",
      "450/450 [==============================] - 1s 3ms/step - loss: 36382.9165 - vae_r_loss: 36333.1870 - vae_kl_loss: 49.7291 - val_loss: 32502.6016 - val_vae_r_loss: 32457.5742 - val_vae_kl_loss: 45.0281\n",
      "Epoch 12/50\n",
      "450/450 [==============================] - 1s 3ms/step - loss: 36506.1586 - vae_r_loss: 36465.2831 - vae_kl_loss: 40.8749 - val_loss: 32497.6055 - val_vae_r_loss: 32459.5371 - val_vae_kl_loss: 38.0670\n",
      "Epoch 13/50\n",
      "450/450 [==============================] - 1s 3ms/step - loss: 36514.2238 - vae_r_loss: 36479.2151 - vae_kl_loss: 35.0074 - val_loss: 32494.7500 - val_vae_r_loss: 32461.2734 - val_vae_kl_loss: 33.4779\n",
      "Epoch 14/50\n",
      "450/450 [==============================] - 1s 3ms/step - loss: 36193.1740 - vae_r_loss: 36161.9869 - vae_kl_loss: 31.1878 - val_loss: 32492.1641 - val_vae_r_loss: 32461.6250 - val_vae_kl_loss: 30.5411\n",
      "Epoch 15/50\n",
      "450/450 [==============================] - 1s 3ms/step - loss: 36472.4175 - vae_r_loss: 36443.7356 - vae_kl_loss: 28.6828 - val_loss: 32490.1406 - val_vae_r_loss: 32461.5820 - val_vae_kl_loss: 28.5558\n",
      "Epoch 16/50\n",
      "450/450 [==============================] - 1s 3ms/step - loss: 36455.3310 - vae_r_loss: 36428.2950 - vae_kl_loss: 27.0348 - val_loss: 32489.0742 - val_vae_r_loss: 32461.8652 - val_vae_kl_loss: 27.2109\n",
      "Epoch 17/50\n",
      "450/450 [==============================] - 1s 3ms/step - loss: 36347.7673 - vae_r_loss: 36321.8391 - vae_kl_loss: 25.9286 - val_loss: 32487.5957 - val_vae_r_loss: 32461.2188 - val_vae_kl_loss: 26.3749\n",
      "Epoch 18/50\n",
      "450/450 [==============================] - 1s 3ms/step - loss: 36446.4962 - vae_r_loss: 36421.2932 - vae_kl_loss: 25.2037 - val_loss: 32487.2441 - val_vae_r_loss: 32461.5312 - val_vae_kl_loss: 25.7133\n",
      "Epoch 19/50\n",
      "450/450 [==============================] - 1s 3ms/step - loss: 36501.4344 - vae_r_loss: 36476.8848 - vae_kl_loss: 24.5501 - val_loss: 32484.6992 - val_vae_r_loss: 32459.7305 - val_vae_kl_loss: 24.9714\n",
      "Epoch 20/50\n",
      "450/450 [==============================] - 1s 3ms/step - loss: 36381.6295 - vae_r_loss: 36357.7644 - vae_kl_loss: 23.8653 - val_loss: 32485.0742 - val_vae_r_loss: 32460.7070 - val_vae_kl_loss: 24.3682\n",
      "Epoch 21/50\n",
      "450/450 [==============================] - 1s 3ms/step - loss: 36319.8032 - vae_r_loss: 36296.4868 - vae_kl_loss: 23.3159 - val_loss: 32482.5605 - val_vae_r_loss: 32458.7969 - val_vae_kl_loss: 23.7641\n",
      "Epoch 22/50\n",
      "450/450 [==============================] - 1s 3ms/step - loss: 36283.9504 - vae_r_loss: 36261.2621 - vae_kl_loss: 22.6893 - val_loss: 32482.9297 - val_vae_r_loss: 32459.9336 - val_vae_kl_loss: 22.9976\n",
      "Epoch 23/50\n",
      "450/450 [==============================] - 1s 3ms/step - loss: 36292.7891 - vae_r_loss: 36270.8797 - vae_kl_loss: 21.9101 - val_loss: 32482.9766 - val_vae_r_loss: 32460.7852 - val_vae_kl_loss: 22.1917\n",
      "Epoch 24/50\n",
      "450/450 [==============================] - 1s 3ms/step - loss: 36331.6652 - vae_r_loss: 36310.4476 - vae_kl_loss: 21.2173 - val_loss: 32480.9297 - val_vae_r_loss: 32459.2578 - val_vae_kl_loss: 21.6742\n",
      "Epoch 25/50\n",
      "450/450 [==============================] - 1s 3ms/step - loss: 36274.0501 - vae_r_loss: 36253.2697 - vae_kl_loss: 20.7804 - val_loss: 32480.0293 - val_vae_r_loss: 32458.7773 - val_vae_kl_loss: 21.2527\n",
      "Epoch 26/50\n",
      "450/450 [==============================] - 1s 3ms/step - loss: 36398.4761 - vae_r_loss: 36378.0897 - vae_kl_loss: 20.3860 - val_loss: 32478.6895 - val_vae_r_loss: 32457.8945 - val_vae_kl_loss: 20.7960\n",
      "Epoch 27/50\n",
      "450/450 [==============================] - 1s 3ms/step - loss: 36378.5197 - vae_r_loss: 36358.6136 - vae_kl_loss: 19.9051 - val_loss: 32479.6641 - val_vae_r_loss: 32459.4336 - val_vae_kl_loss: 20.2316\n",
      "Epoch 28/50\n",
      "450/450 [==============================] - 1s 3ms/step - loss: 36226.1795 - vae_r_loss: 36206.8286 - vae_kl_loss: 19.3508 - val_loss: 32478.8594 - val_vae_r_loss: 32459.1836 - val_vae_kl_loss: 19.6782\n",
      "Epoch 29/50\n",
      "450/450 [==============================] - 1s 3ms/step - loss: 36362.7781 - vae_r_loss: 36343.8985 - vae_kl_loss: 18.8797 - val_loss: 32479.2793 - val_vae_r_loss: 32459.9531 - val_vae_kl_loss: 19.3249\n",
      "Restoring model weights from the end of the best epoch\n",
      "Epoch 00029: early stopping\n"
     ]
    }
   ],
   "source": [
    "train_hist = vae_model.model.fit(images, images, epochs=50, batch_size=64, validation_split=0.1, callbacks=[early_stopping])"
   ]
  },
  {
   "cell_type": "code",
   "execution_count": 147,
   "metadata": {},
   "outputs": [
    {
     "data": {
      "image/png": "[encoded data removed]",
      "text/plain": [
       "<Figure size 432x288 with 1 Axes>"
      ]
     },
     "metadata": {
      "needs_background": "light"
     },
     "output_type": "display_data"
    }
   ],
   "source": [
    "plt.plot(train_hist.history[\"loss\"]);"
   ]
  },
  {
   "cell_type": "markdown",
   "metadata": {},
   "source": [
    "## Test the VAE"
   ]
  },
  {
   "cell_type": "markdown",
   "metadata": {},
   "source": [
    "### Encode images to a latent vector"
   ]
  },
  {
   "cell_type": "code",
   "execution_count": 148,
   "metadata": {},
   "outputs": [],
   "source": [
    "encoded_images = vae_model.encoder.predict(images)"
   ]
  },
  {
   "cell_type": "code",
   "execution_count": 149,
   "metadata": {},
   "outputs": [
    {
     "data": {
      "text/plain": [
       "(500, 32)"
      ]
     },
     "execution_count": 149,
     "metadata": {},
     "output_type": "execute_result"
    }
   ],
   "source": [
    "encoded_images.shape"
   ]
  },
  {
   "cell_type": "markdown",
   "metadata": {},
   "source": [
    "### Decode images"
   ]
  },
  {
   "cell_type": "code",
   "execution_count": 150,
   "metadata": {},
   "outputs": [],
   "source": [
    "decoded_images = vae_model.decoder.predict(encoded_images)"
   ]
  },
  {
   "cell_type": "code",
   "execution_count": 151,
   "metadata": {},
   "outputs": [],
   "source": [
    "decoded_images = decoded_images * 255\n",
    "decoded_images = decoded_images.astype(np.uint8)"
   ]
  },
  {
   "cell_type": "code",
   "execution_count": 152,
   "metadata": {},
   "outputs": [
    {
     "data": {
      "image/png": "[encoded data removed]",
      "text/plain": [
       "<Figure size 504x504 with 36 Axes>"
      ]
     },
     "metadata": {
      "needs_background": "light"
     },
     "output_type": "display_data"
    }
   ],
   "source": [
    "fig, axs = plt.subplots(6, 6, figsize=(7, 7))\n",
    "fig.suptitle(\"Decoded images\")\n",
    "\n",
    "for i, ax in enumerate(axs.flatten()):\n",
    "    ax.axis(\"off\")\n",
    "    ax.imshow(decoded_images[i])"
   ]
  }
 ],
 "metadata": {
  "kernelspec": {
   "display_name": "Python 3",
   "language": "python",
   "name": "python3"
  },
  "language_info": {
   "codemirror_mode": {
    "name": "ipython",
    "version": 3
   },
   "file_extension": ".py",
   "mimetype": "text/x-python",
   "name": "python",
   "nbconvert_exporter": "python",
   "pygments_lexer": "ipython3",
   "version": "3.6.2"
  }
 },
 "nbformat": 4,
 "nbformat_minor": 2
}
